{
 "cells": [
  {
   "cell_type": "markdown",
   "metadata": {},
   "source": [
    "# Team Ecologists\n",
    "### Museum Data processing\n",
    "\n",
    "This notebook processes the raw dataset from Museum"
   ]
  },
  {
   "cell_type": "code",
   "execution_count": 1,
   "metadata": {},
   "outputs": [],
   "source": [
    "from pathlib import Path\n",
    "\n",
    "import numpy as np\n",
    "import pandas as pd\n",
    "import os\n",
    "import glob\n",
    "import matplotlib.pyplot as plt\n",
    "import matplotlib.image as mpimg\n",
    "from IPython.display import Image\n",
    "import matplotlib.pyplot as plt\n",
    "import matplotlib.image as mpimg\n",
    "from PIL import Image\n",
    "\n",
    "from io import StringIO"
   ]
  },
  {
   "cell_type": "code",
   "execution_count": 7,
   "metadata": {},
   "outputs": [
    {
     "data": {
      "text/html": [
       "<div>\n",
       "<style scoped>\n",
       "    .dataframe tbody tr th:only-of-type {\n",
       "        vertical-align: middle;\n",
       "    }\n",
       "\n",
       "    .dataframe tbody tr th {\n",
       "        vertical-align: top;\n",
       "    }\n",
       "\n",
       "    .dataframe thead th {\n",
       "        text-align: right;\n",
       "    }\n",
       "</style>\n",
       "<table border=\"1\" class=\"dataframe\">\n",
       "  <thead>\n",
       "    <tr style=\"text-align: right;\">\n",
       "      <th></th>\n",
       "      <th>URL</th>\n",
       "      <th>YMD</th>\n",
       "      <th>Lat</th>\n",
       "      <th>Long</th>\n",
       "      <th>Flower</th>\n",
       "      <th>collection</th>\n",
       "      <th>user_id</th>\n",
       "      <th>B&amp;W_taxonomy</th>\n",
       "      <th>Nom_taxon</th>\n",
       "      <th>ORDRE</th>\n",
       "      <th>IFOR</th>\n",
       "      <th>SPFM</th>\n",
       "      <th>FM</th>\n",
       "    </tr>\n",
       "  </thead>\n",
       "  <tbody>\n",
       "    <tr>\n",
       "      <th>0</th>\n",
       "      <td>https://spgp-api.65mo.fr/api/containers/spgp/d...</td>\n",
       "      <td>2019-06-12</td>\n",
       "      <td>45.363808</td>\n",
       "      <td>6.514947</td>\n",
       "      <td>Les Trèfles ? fleurs blanches ou roses en boul...</td>\n",
       "      <td>1</td>\n",
       "      <td>12657</td>\n",
       "      <td>Bees</td>\n",
       "      <td>L'Abeille mellifère (Apis mellifera)</td>\n",
       "      <td>Hymenoptera</td>\n",
       "      <td>NaN</td>\n",
       "      <td>Apoidea</td>\n",
       "      <td>Apidae</td>\n",
       "    </tr>\n",
       "    <tr>\n",
       "      <th>1</th>\n",
       "      <td>https://spgp-api.65mo.fr/api/containers/spgp/d...</td>\n",
       "      <td>2019-06-12</td>\n",
       "      <td>45.363808</td>\n",
       "      <td>6.514947</td>\n",
       "      <td>Les Trèfles ? fleurs blanches ou roses en boul...</td>\n",
       "      <td>1</td>\n",
       "      <td>12657</td>\n",
       "      <td>Bees</td>\n",
       "      <td>Les Bourdons noirs à bande(s) jaune(s) et cul ...</td>\n",
       "      <td>Hymenoptera</td>\n",
       "      <td>NaN</td>\n",
       "      <td>Apoidea</td>\n",
       "      <td>Apidae</td>\n",
       "    </tr>\n",
       "    <tr>\n",
       "      <th>2</th>\n",
       "      <td>https://spgp-api.65mo.fr/api/containers/spgp/d...</td>\n",
       "      <td>2019-06-20</td>\n",
       "      <td>48.844975</td>\n",
       "      <td>2.358313</td>\n",
       "      <td>Acanthus mollis</td>\n",
       "      <td>2</td>\n",
       "      <td>10918</td>\n",
       "      <td>Bees</td>\n",
       "      <td>Les Bourdons noirs à bande(s) jaune(s) et cul ...</td>\n",
       "      <td>Hymenoptera</td>\n",
       "      <td>NaN</td>\n",
       "      <td>Apoidea</td>\n",
       "      <td>Apidae</td>\n",
       "    </tr>\n",
       "    <tr>\n",
       "      <th>3</th>\n",
       "      <td>https://spgp-api.65mo.fr/api/containers/spgp/d...</td>\n",
       "      <td>2019-06-20</td>\n",
       "      <td>48.844975</td>\n",
       "      <td>2.358313</td>\n",
       "      <td>Acanthus mollis</td>\n",
       "      <td>2</td>\n",
       "      <td>10918</td>\n",
       "      <td>Bees</td>\n",
       "      <td>L'Abeille mellifère (Apis mellifera)</td>\n",
       "      <td>Hymenoptera</td>\n",
       "      <td>NaN</td>\n",
       "      <td>Apoidea</td>\n",
       "      <td>Apidae</td>\n",
       "    </tr>\n",
       "    <tr>\n",
       "      <th>4</th>\n",
       "      <td>https://spgp-api.65mo.fr/api/containers/spgp/d...</td>\n",
       "      <td>2019-06-12</td>\n",
       "      <td>44.711017</td>\n",
       "      <td>4.568069</td>\n",
       "      <td>Les Orchidées ? fleurs blanches, jaunes ou ver...</td>\n",
       "      <td>3</td>\n",
       "      <td>11784</td>\n",
       "      <td>Other insects</td>\n",
       "      <td>Les Sauterelles (Tettigoniidae)</td>\n",
       "      <td>Orthoptera</td>\n",
       "      <td>NaN</td>\n",
       "      <td>Tettigonioidea</td>\n",
       "      <td>Tettigoniidae</td>\n",
       "    </tr>\n",
       "  </tbody>\n",
       "</table>\n",
       "</div>"
      ],
      "text/plain": [
       "                                                 URL         YMD        Lat  \\\n",
       "0  https://spgp-api.65mo.fr/api/containers/spgp/d...  2019-06-12  45.363808   \n",
       "1  https://spgp-api.65mo.fr/api/containers/spgp/d...  2019-06-12  45.363808   \n",
       "2  https://spgp-api.65mo.fr/api/containers/spgp/d...  2019-06-20  48.844975   \n",
       "3  https://spgp-api.65mo.fr/api/containers/spgp/d...  2019-06-20  48.844975   \n",
       "4  https://spgp-api.65mo.fr/api/containers/spgp/d...  2019-06-12  44.711017   \n",
       "\n",
       "       Long                                             Flower  collection  \\\n",
       "0  6.514947  Les Trèfles ? fleurs blanches ou roses en boul...           1   \n",
       "1  6.514947  Les Trèfles ? fleurs blanches ou roses en boul...           1   \n",
       "2  2.358313                                    Acanthus mollis           2   \n",
       "3  2.358313                                    Acanthus mollis           2   \n",
       "4  4.568069  Les Orchidées ? fleurs blanches, jaunes ou ver...           3   \n",
       "\n",
       "   user_id   B&W_taxonomy                                          Nom_taxon  \\\n",
       "0    12657           Bees               L'Abeille mellifère (Apis mellifera)   \n",
       "1    12657           Bees  Les Bourdons noirs à bande(s) jaune(s) et cul ...   \n",
       "2    10918           Bees  Les Bourdons noirs à bande(s) jaune(s) et cul ...   \n",
       "3    10918           Bees               L'Abeille mellifère (Apis mellifera)   \n",
       "4    11784  Other insects                    Les Sauterelles (Tettigoniidae)   \n",
       "\n",
       "         ORDRE IFOR            SPFM             FM  \n",
       "0  Hymenoptera  NaN         Apoidea         Apidae  \n",
       "1  Hymenoptera  NaN         Apoidea         Apidae  \n",
       "2  Hymenoptera  NaN         Apoidea         Apidae  \n",
       "3  Hymenoptera  NaN         Apoidea         Apidae  \n",
       "4   Orthoptera  NaN  Tettigonioidea  Tettigoniidae  "
      ]
     },
     "execution_count": 7,
     "metadata": {},
     "output_type": "execute_result"
    }
   ],
   "source": [
    "data = pd.read_csv('spipoll_export_202012301551.txt', delimiter=\"\\t\")\n",
    "data.head()"
   ]
  },
  {
   "cell_type": "markdown",
   "metadata": {},
   "source": [
    "**Replacing class labels to match Kaggle Data**"
   ]
  },
  {
   "cell_type": "code",
   "execution_count": 42,
   "metadata": {},
   "outputs": [],
   "source": [
    "data['B&W_taxonomy'] = data['B&W_taxonomy'].replace(\"Bees\",\"bee\")\n",
    "data['B&W_taxonomy'] = data['B&W_taxonomy'].replace(\"Wasps\",\"wasp\")\n",
    "data['B&W_taxonomy'] = data['B&W_taxonomy'].replace(\"Other insects\",\"insect\")\n",
    "data['B&W_taxonomy'] = data['B&W_taxonomy'].replace(\"butterflies\",\"butterfly\")"
   ]
  },
  {
   "cell_type": "code",
   "execution_count": 43,
   "metadata": {},
   "outputs": [
    {
     "data": {
      "text/plain": [
       "insect       175001\n",
       "bee           74413\n",
       "butterfly     29376\n",
       "wasp          10796\n",
       "Name: B&W_taxonomy, dtype: int64"
      ]
     },
     "execution_count": 43,
     "metadata": {},
     "output_type": "execute_result"
    }
   ],
   "source": [
    "data['B&W_taxonomy'].value_counts()"
   ]
  },
  {
   "cell_type": "markdown",
   "metadata": {},
   "source": [
    "**Processing a subset of data**"
   ]
  },
  {
   "cell_type": "code",
   "execution_count": 8,
   "metadata": {},
   "outputs": [],
   "source": [
    "image_paths =  data.index < 1000\n",
    "sub_data = data[image_paths]"
   ]
  },
  {
   "cell_type": "markdown",
   "metadata": {},
   "source": [
    "1000 -> 3minutes"
   ]
  },
  {
   "cell_type": "markdown",
   "metadata": {},
   "source": [
    "**Loading images**"
   ]
  },
  {
   "cell_type": "code",
   "execution_count": 11,
   "metadata": {},
   "outputs": [],
   "source": [
    "from skimage import io\n",
    "\n",
    "images = []\n",
    "\n",
    "for path in sub_data['URL']:\n",
    "    images.append(io.imread(path))"
   ]
  },
  {
   "cell_type": "code",
   "execution_count": 12,
   "metadata": {},
   "outputs": [],
   "source": [
    "labels = []\n",
    "for label in sub_data['B&W_taxonomy']:\n",
    "    labels.append(label)"
   ]
  },
  {
   "cell_type": "markdown",
   "metadata": {},
   "source": [
    "Now we have all the pictures in images & labels"
   ]
  },
  {
   "cell_type": "markdown",
   "metadata": {},
   "source": [
    "**Removing bad images**"
   ]
  },
  {
   "cell_type": "code",
   "execution_count": 13,
   "metadata": {},
   "outputs": [],
   "source": [
    "bad_images = []\n",
    "\n",
    "for i in range(0,len(images)):\n",
    "    shape = np.shape(images[i])\n",
    "    if(len(shape)==2 or shape[2] != 3):\n",
    "        bad_images.append(i)"
   ]
  },
  {
   "cell_type": "markdown",
   "metadata": {},
   "source": [
    "No strange images among the first 1000"
   ]
  },
  {
   "cell_type": "code",
   "execution_count": 14,
   "metadata": {},
   "outputs": [],
   "source": [
    "def perfect_resize(img):\n",
    "    x = np.shape(img)\n",
    "    \n",
    "    diff = np.abs(x[0] - x[1])\n",
    "    a = int(diff/2)\n",
    "    \n",
    "    if(len(x) == 3):\n",
    "        if (x[0] < x[1]):\n",
    "            b = int(x[1]-(diff/2))\n",
    "            res = img[:,a:b,:]\n",
    "        else:\n",
    "            b = int(x[0]-(diff/2))\n",
    "            res = img[a:b,:,:]\n",
    "    else:\n",
    "        if (x[0] < x[1]):\n",
    "            b = int(x[1]-(diff/2))\n",
    "            res = img[:,a:b]\n",
    "        else:\n",
    "            b = int(x[0]-(diff/2))\n",
    "            res = img[a:b,:]\n",
    "        \n",
    "    return res"
   ]
  },
  {
   "cell_type": "code",
   "execution_count": 15,
   "metadata": {},
   "outputs": [
    {
     "name": "stderr",
     "output_type": "stream",
     "text": [
      "C:\\Users\\Thibaut\\anaconda3\\lib\\site-packages\\numpy\\core\\_asarray.py:83: VisibleDeprecationWarning: Creating an ndarray from ragged nested sequences (which is a list-or-tuple of lists-or-tuples-or ndarrays with different lengths or shapes) is deprecated. If you meant to do this, you must specify 'dtype=object' when creating the ndarray\n",
      "  return array(a, dtype, copy=False, order=order)\n"
     ]
    }
   ],
   "source": [
    "images_resized=[]\n",
    "for i in range(0,np.shape(images)[0]):\n",
    "    images_resized.append(perfect_resize(images[i]))"
   ]
  },
  {
   "cell_type": "markdown",
   "metadata": {},
   "source": [
    "Now we check if all images are squared images :"
   ]
  },
  {
   "cell_type": "code",
   "execution_count": 16,
   "metadata": {},
   "outputs": [],
   "source": [
    "for i in range(0,len(images_resized)):\n",
    "    if(np.shape(images_resized[i])[0] != np.shape(images_resized[i])[1]):\n",
    "        print(np.shape(images_resized[0])[0],np.shape(images_resized)[1])\n",
    "        print(\"Erreur, des images ont mal été modifiés :\" , i)"
   ]
  },
  {
   "cell_type": "code",
   "execution_count": 17,
   "metadata": {},
   "outputs": [],
   "source": [
    "mini = 64"
   ]
  },
  {
   "cell_type": "markdown",
   "metadata": {},
   "source": [
    "So we reduced all images with this size :"
   ]
  },
  {
   "cell_type": "code",
   "execution_count": 18,
   "metadata": {},
   "outputs": [],
   "source": [
    "for i in range(0,len(images_resized)):\n",
    "#     if (images_resized[i].dtype != images_resized[0].dtype):\n",
    "#         images_resized[i] = (img[i]*255).astype(img[0].dtype)\n",
    "    temp = Image.fromarray(images_resized[i])\n",
    "    images_resized[i] = np.array(temp.resize(size=(mini, mini)))"
   ]
  },
  {
   "cell_type": "code",
   "execution_count": 19,
   "metadata": {},
   "outputs": [],
   "source": [
    "for i in range(0,len(images_resized)):\n",
    "    if (np.shape(images_resized[i])[0] != mini) or (np.shape(images_resized[i])[1] != mini) or (np.shape(images_resized[i])[2] != 3):\n",
    "        print('Error')"
   ]
  },
  {
   "cell_type": "code",
   "execution_count": 20,
   "metadata": {},
   "outputs": [
    {
     "data": {
      "image/png": "[encoded data removed]",
      "text/plain": [
       "<PIL.Image.Image image mode=RGB size=64x64 at 0x1E01BE2E850>"
      ]
     },
     "execution_count": 20,
     "metadata": {},
     "output_type": "execute_result"
    }
   ],
   "source": [
    "Image.fromarray(images_resized[592])"
   ]
  },
  {
   "cell_type": "markdown",
   "metadata": {},
   "source": [
    "Now we will flatten the array to insert it into the dataframe :"
   ]
  },
  {
   "cell_type": "code",
   "execution_count": 21,
   "metadata": {},
   "outputs": [],
   "source": [
    "for i in range(0,len(images_resized)):\n",
    "    images_resized[i] = images_resized[i].ravel()"
   ]
  },
  {
   "cell_type": "code",
   "execution_count": 22,
   "metadata": {},
   "outputs": [],
   "source": [
    "for i in range(0,len(images_resized)):\n",
    "    if (np.shape(images_resized[i])[0] != mini*mini*3):\n",
    "        print('Error',i)"
   ]
  },
  {
   "cell_type": "markdown",
   "metadata": {},
   "source": [
    "Now we will convert the array img into a dataframe :"
   ]
  },
  {
   "cell_type": "code",
   "execution_count": 23,
   "metadata": {},
   "outputs": [],
   "source": [
    "column = []\n",
    "for i in range(0,mini*mini):\n",
    "    name = 'pixel_'+str(1+int(i/mini))+'_'+str(1+(i%mini))\n",
    "    column.append(name+'_R')\n",
    "    column.append(name+'_G')\n",
    "    column.append(name+'_B')"
   ]
  },
  {
   "cell_type": "code",
   "execution_count": 24,
   "metadata": {},
   "outputs": [],
   "source": [
    "image_resized_DF = pd.DataFrame(columns = column, data=images_resized)"
   ]
  },
  {
   "cell_type": "code",
   "execution_count": 25,
   "metadata": {},
   "outputs": [],
   "source": [
    "labels_DF = pd.DataFrame(columns=['label'], data=labels)"
   ]
  },
  {
   "cell_type": "code",
   "execution_count": 26,
   "metadata": {},
   "outputs": [],
   "source": [
    "merged = image_resized_DF.merge(labels_DF, left_index=True, right_index=True)"
   ]
  },
  {
   "cell_type": "code",
   "execution_count": 27,
   "metadata": {},
   "outputs": [],
   "source": [
    "merged.to_csv(r'C:/Users/Thibaut/Desktop/FAC/M1 - DS/T3/ProjectA/dataMuseum1000.csv',index=False)"
   ]
  },
  {
   "cell_type": "markdown",
   "metadata": {},
   "source": [
    "---------------------------"
   ]
  },
  {
   "cell_type": "markdown",
   "metadata": {},
   "source": [
    "## Creating a subset of the dataset with 500 images from each class"
   ]
  },
  {
   "cell_type": "code",
   "execution_count": 55,
   "metadata": {},
   "outputs": [],
   "source": [
    "bees = data[data[\"B&W_taxonomy\"] == \"bee\"]\n",
    "bees = bees.reset_index()\n",
    "butterflies = data[data[\"B&W_taxonomy\"] == \"butterfly\"]\n",
    "butterflies = butterflies.reset_index()\n",
    "wasps = data[data[\"B&W_taxonomy\"] == \"wasp\"]\n",
    "wasps = wasps.reset_index()\n",
    "other_insects = data[data[\"B&W_taxonomy\"] == \"insect\"]\n",
    "other_insects = other_insects.reset_index()"
   ]
  },
  {
   "cell_type": "code",
   "execution_count": 56,
   "metadata": {},
   "outputs": [],
   "source": [
    "size = 500\n",
    "\n",
    "sub_data_bees = bees[bees.index < size]\n",
    "sub_data_butterflies = butterflies[butterflies.index < size]\n",
    "sub_data_wasps = wasps[wasps.index < size]\n",
    "sub_data_other_insects = other_insects[other_insects.index < size]"
   ]
  },
  {
   "cell_type": "code",
   "execution_count": 91,
   "metadata": {},
   "outputs": [],
   "source": [
    "images = []\n",
    "labels = []\n",
    "\n",
    "for index in range(size):\n",
    "    images.append(io.imread(sub_data_bees[\"URL\"].iloc[index]))\n",
    "    images.append(io.imread(sub_data_butterflies[\"URL\"].iloc[index]))\n",
    "    images.append(io.imread(sub_data_wasps[\"URL\"].iloc[index]))\n",
    "    images.append(io.imread(sub_data_other_insects[\"URL\"].iloc[index]))\n",
    "    \n",
    "    labels.append(\"bee\")\n",
    "    labels.append(\"butterfly\")\n",
    "    labels.append(\"wasp\")\n",
    "    labels.append(\"insect\")"
   ]
  },
  {
   "cell_type": "code",
   "execution_count": 100,
   "metadata": {},
   "outputs": [],
   "source": [
    "for i in range(0,len(images)):\n",
    "    shape = np.shape(images[i])\n",
    "    if(len(shape)==2 or shape[2] != 3):\n",
    "        images.pop(i)\n",
    "        labels.pop(i)\n",
    "        print(i)"
   ]
  },
  {
   "cell_type": "code",
   "execution_count": 101,
   "metadata": {},
   "outputs": [],
   "source": [
    "images_resized=[]\n",
    "for i in range(0,np.shape(images)[0]):\n",
    "    images_resized.append(perfect_resize(images[i]))"
   ]
  },
  {
   "cell_type": "markdown",
   "metadata": {},
   "source": [
    "Now we check if all images are squared images :"
   ]
  },
  {
   "cell_type": "code",
   "execution_count": 102,
   "metadata": {},
   "outputs": [],
   "source": [
    "for i in range(0,len(images_resized)):\n",
    "    if(np.shape(images_resized[i])[0] != np.shape(images_resized[i])[1]):\n",
    "        print(np.shape(images_resized[0])[0],np.shape(images_resized)[1])\n",
    "        print(\"Erreur, des images ont mal été modifiés :\" , i)"
   ]
  },
  {
   "cell_type": "code",
   "execution_count": 103,
   "metadata": {},
   "outputs": [],
   "source": [
    "mini = 64"
   ]
  },
  {
   "cell_type": "markdown",
   "metadata": {},
   "source": [
    "So we reduced all images with this size :"
   ]
  },
  {
   "cell_type": "code",
   "execution_count": 104,
   "metadata": {},
   "outputs": [],
   "source": [
    "for i in range(0,len(images_resized)):\n",
    "#     if (images_resized[i].dtype != images_resized[0].dtype):\n",
    "#         images_resized[i] = (img[i]*255).astype(img[0].dtype)\n",
    "    temp = Image.fromarray(images_resized[i])\n",
    "    images_resized[i] = np.array(temp.resize(size=(mini, mini)))"
   ]
  },
  {
   "cell_type": "code",
   "execution_count": 105,
   "metadata": {},
   "outputs": [],
   "source": [
    "for i in range(0,len(images_resized)):\n",
    "    if (np.shape(images_resized[i])[0] != mini) or (np.shape(images_resized[i])[1] != mini) or (np.shape(images_resized[i])[2] != 3):\n",
    "        print(np.shape(images_resized[i]))"
   ]
  },
  {
   "cell_type": "code",
   "execution_count": 106,
   "metadata": {},
   "outputs": [
    {
     "data": {
      "image/png": "[encoded data removed]",
      "text/plain": [
       "<PIL.Image.Image image mode=RGB size=64x64 at 0x1E0F05F3490>"
      ]
     },
     "execution_count": 106,
     "metadata": {},
     "output_type": "execute_result"
    }
   ],
   "source": [
    "Image.fromarray(images_resized[592])"
   ]
  },
  {
   "cell_type": "markdown",
   "metadata": {},
   "source": [
    "Now we will flatten the array to insert it into the dataframe :"
   ]
  },
  {
   "cell_type": "code",
   "execution_count": 107,
   "metadata": {},
   "outputs": [],
   "source": [
    "for i in range(0,len(images_resized)):\n",
    "    images_resized[i] = images_resized[i].ravel()"
   ]
  },
  {
   "cell_type": "code",
   "execution_count": 108,
   "metadata": {},
   "outputs": [],
   "source": [
    "for i in range(0,len(images_resized)):\n",
    "    if (np.shape(images_resized[i])[0] != mini*mini*3):\n",
    "        print('Error',i)"
   ]
  },
  {
   "cell_type": "markdown",
   "metadata": {},
   "source": [
    "Now we will convert the array img into a dataframe :"
   ]
  },
  {
   "cell_type": "code",
   "execution_count": 109,
   "metadata": {},
   "outputs": [],
   "source": [
    "column = []\n",
    "for i in range(0,mini*mini):\n",
    "    name = 'pixel_'+str(1+int(i/mini))+'_'+str(1+(i%mini))\n",
    "    column.append(name+'_R')\n",
    "    column.append(name+'_G')\n",
    "    column.append(name+'_B')"
   ]
  },
  {
   "cell_type": "code",
   "execution_count": 110,
   "metadata": {},
   "outputs": [],
   "source": [
    "image_resized_DF = pd.DataFrame(columns = column, data=images_resized)"
   ]
  },
  {
   "cell_type": "code",
   "execution_count": 111,
   "metadata": {},
   "outputs": [],
   "source": [
    "labels_DF = pd.DataFrame(columns=['label'], data=labels)"
   ]
  },
  {
   "cell_type": "code",
   "execution_count": 112,
   "metadata": {},
   "outputs": [],
   "source": [
    "merged = image_resized_DF.merge(labels_DF, left_index=True, right_index=True)"
   ]
  },
  {
   "cell_type": "code",
   "execution_count": 113,
   "metadata": {},
   "outputs": [],
   "source": [
    "merged.to_csv(r'C:/Users/Thibaut/Desktop/FAC/M1 - DS/T3/ProjectA/dataMuseum500each.csv',index=False)"
   ]
  },
  {
   "cell_type": "code",
   "execution_count": 114,
   "metadata": {},
   "outputs": [],
   "source": [
    "data_500_each = pd.read_csv('dataMuseum500each.csv')"
   ]
  },
  {
   "cell_type": "code",
   "execution_count": 116,
   "metadata": {},
   "outputs": [
    {
     "name": "stdout",
     "output_type": "stream",
     "text": [
      "<class 'pandas.core.frame.DataFrame'>\n",
      "RangeIndex: 1999 entries, 0 to 1998\n",
      "Columns: 12289 entries, pixel_1_1_R to label\n",
      "dtypes: int64(12288), object(1)\n",
      "memory usage: 187.4+ MB\n"
     ]
    }
   ],
   "source": [
    "data_500_each.info()"
   ]
  }
 ],
 "metadata": {
  "kernelspec": {
   "display_name": "Python 3",
   "language": "python",
   "name": "python3"
  },
  "language_info": {
   "codemirror_mode": {
    "name": "ipython",
    "version": 3
   },
   "file_extension": ".py",
   "mimetype": "text/x-python",
   "name": "python",
   "nbconvert_exporter": "python",
   "pygments_lexer": "ipython3",
   "version": "3.7.7"
  }
 },
 "nbformat": 4,
 "nbformat_minor": 4
}
