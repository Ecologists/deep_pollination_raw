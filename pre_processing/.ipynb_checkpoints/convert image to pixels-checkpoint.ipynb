{
 "cells": [
  {
   "cell_type": "code",
   "execution_count": 1,
   "metadata": {},
   "outputs": [
    {
     "name": "stderr",
     "output_type": "stream",
     "text": [
      "Using TensorFlow backend.\n"
     ]
    }
   ],
   "source": [
    "from pathlib import Path\n",
    "\n",
    "import numpy as np\n",
    "import pandas as pd\n",
    "import os\n",
    "import glob\n",
    "import matplotlib.pyplot as plt\n",
    "import matplotlib.image as mpimg\n",
    "from IPython.display import Image\n",
    "import matplotlib.pyplot as plt\n",
    "import matplotlib.image as mpimg\n",
    "from PIL import Image\n",
    "\n",
    "from sklearn.model_selection import train_test_split\n",
    "from keras.applications.resnet_v2 import ResNet152V2\n",
    "from keras.layers import Dense, GlobalAveragePooling2D\n",
    "from keras.models import Model\n",
    "from keras.optimizers import Adam\n",
    "from keras.utils import to_categorical\n",
    "\n",
    "from io import StringIO"
   ]
  },
  {
   "cell_type": "markdown",
   "metadata": {},
   "source": [
    "## Load the data set"
   ]
  },
  {
   "cell_type": "code",
   "execution_count": 2,
   "metadata": {},
   "outputs": [
    {
     "data": {
      "text/html": [
       "<div>\n",
       "<style scoped>\n",
       "    .dataframe tbody tr th:only-of-type {\n",
       "        vertical-align: middle;\n",
       "    }\n",
       "\n",
       "    .dataframe tbody tr th {\n",
       "        vertical-align: top;\n",
       "    }\n",
       "\n",
       "    .dataframe thead th {\n",
       "        text-align: right;\n",
       "    }\n",
       "</style>\n",
       "<table border=\"1\" class=\"dataframe\">\n",
       "  <thead>\n",
       "    <tr style=\"text-align: right;\">\n",
       "      <th></th>\n",
       "      <th>URL</th>\n",
       "      <th>YMD</th>\n",
       "      <th>Lat</th>\n",
       "      <th>Long</th>\n",
       "      <th>Flower</th>\n",
       "      <th>collection</th>\n",
       "      <th>user_id</th>\n",
       "      <th>B&amp;W_taxonomy</th>\n",
       "      <th>Nom_taxon</th>\n",
       "      <th>ORDRE</th>\n",
       "      <th>IFOR</th>\n",
       "      <th>SPFM</th>\n",
       "      <th>FM</th>\n",
       "    </tr>\n",
       "  </thead>\n",
       "  <tbody>\n",
       "    <tr>\n",
       "      <th>0</th>\n",
       "      <td>https://spgp-api.65mo.fr/api/containers/spgp/d...</td>\n",
       "      <td>2019-06-12</td>\n",
       "      <td>45.363808</td>\n",
       "      <td>6.514947</td>\n",
       "      <td>Les Trèfles ? fleurs blanches ou roses en boul...</td>\n",
       "      <td>1</td>\n",
       "      <td>12657</td>\n",
       "      <td>Bees</td>\n",
       "      <td>L'Abeille mellifère (Apis mellifera)</td>\n",
       "      <td>Hymenoptera</td>\n",
       "      <td>NaN</td>\n",
       "      <td>Apoidea</td>\n",
       "      <td>Apidae</td>\n",
       "    </tr>\n",
       "    <tr>\n",
       "      <th>1</th>\n",
       "      <td>https://spgp-api.65mo.fr/api/containers/spgp/d...</td>\n",
       "      <td>2019-06-12</td>\n",
       "      <td>45.363808</td>\n",
       "      <td>6.514947</td>\n",
       "      <td>Les Trèfles ? fleurs blanches ou roses en boul...</td>\n",
       "      <td>1</td>\n",
       "      <td>12657</td>\n",
       "      <td>Bees</td>\n",
       "      <td>Les Bourdons noirs à bande(s) jaune(s) et cul ...</td>\n",
       "      <td>Hymenoptera</td>\n",
       "      <td>NaN</td>\n",
       "      <td>Apoidea</td>\n",
       "      <td>Apidae</td>\n",
       "    </tr>\n",
       "    <tr>\n",
       "      <th>2</th>\n",
       "      <td>https://spgp-api.65mo.fr/api/containers/spgp/d...</td>\n",
       "      <td>2019-06-20</td>\n",
       "      <td>48.844975</td>\n",
       "      <td>2.358313</td>\n",
       "      <td>Acanthus mollis</td>\n",
       "      <td>2</td>\n",
       "      <td>10918</td>\n",
       "      <td>Bees</td>\n",
       "      <td>Les Bourdons noirs à bande(s) jaune(s) et cul ...</td>\n",
       "      <td>Hymenoptera</td>\n",
       "      <td>NaN</td>\n",
       "      <td>Apoidea</td>\n",
       "      <td>Apidae</td>\n",
       "    </tr>\n",
       "    <tr>\n",
       "      <th>3</th>\n",
       "      <td>https://spgp-api.65mo.fr/api/containers/spgp/d...</td>\n",
       "      <td>2019-06-20</td>\n",
       "      <td>48.844975</td>\n",
       "      <td>2.358313</td>\n",
       "      <td>Acanthus mollis</td>\n",
       "      <td>2</td>\n",
       "      <td>10918</td>\n",
       "      <td>Bees</td>\n",
       "      <td>L'Abeille mellifère (Apis mellifera)</td>\n",
       "      <td>Hymenoptera</td>\n",
       "      <td>NaN</td>\n",
       "      <td>Apoidea</td>\n",
       "      <td>Apidae</td>\n",
       "    </tr>\n",
       "    <tr>\n",
       "      <th>4</th>\n",
       "      <td>https://spgp-api.65mo.fr/api/containers/spgp/d...</td>\n",
       "      <td>2019-06-12</td>\n",
       "      <td>44.711017</td>\n",
       "      <td>4.568069</td>\n",
       "      <td>Les Orchidées ? fleurs blanches, jaunes ou ver...</td>\n",
       "      <td>3</td>\n",
       "      <td>11784</td>\n",
       "      <td>Other insects</td>\n",
       "      <td>Les Sauterelles (Tettigoniidae)</td>\n",
       "      <td>Orthoptera</td>\n",
       "      <td>NaN</td>\n",
       "      <td>Tettigonioidea</td>\n",
       "      <td>Tettigoniidae</td>\n",
       "    </tr>\n",
       "  </tbody>\n",
       "</table>\n",
       "</div>"
      ],
      "text/plain": [
       "                                                 URL         YMD        Lat  \\\n",
       "0  https://spgp-api.65mo.fr/api/containers/spgp/d...  2019-06-12  45.363808   \n",
       "1  https://spgp-api.65mo.fr/api/containers/spgp/d...  2019-06-12  45.363808   \n",
       "2  https://spgp-api.65mo.fr/api/containers/spgp/d...  2019-06-20  48.844975   \n",
       "3  https://spgp-api.65mo.fr/api/containers/spgp/d...  2019-06-20  48.844975   \n",
       "4  https://spgp-api.65mo.fr/api/containers/spgp/d...  2019-06-12  44.711017   \n",
       "\n",
       "       Long                                             Flower  collection  \\\n",
       "0  6.514947  Les Trèfles ? fleurs blanches ou roses en boul...           1   \n",
       "1  6.514947  Les Trèfles ? fleurs blanches ou roses en boul...           1   \n",
       "2  2.358313                                    Acanthus mollis           2   \n",
       "3  2.358313                                    Acanthus mollis           2   \n",
       "4  4.568069  Les Orchidées ? fleurs blanches, jaunes ou ver...           3   \n",
       "\n",
       "   user_id   B&W_taxonomy                                          Nom_taxon  \\\n",
       "0    12657           Bees               L'Abeille mellifère (Apis mellifera)   \n",
       "1    12657           Bees  Les Bourdons noirs à bande(s) jaune(s) et cul ...   \n",
       "2    10918           Bees  Les Bourdons noirs à bande(s) jaune(s) et cul ...   \n",
       "3    10918           Bees               L'Abeille mellifère (Apis mellifera)   \n",
       "4    11784  Other insects                    Les Sauterelles (Tettigoniidae)   \n",
       "\n",
       "         ORDRE IFOR            SPFM             FM  \n",
       "0  Hymenoptera  NaN         Apoidea         Apidae  \n",
       "1  Hymenoptera  NaN         Apoidea         Apidae  \n",
       "2  Hymenoptera  NaN         Apoidea         Apidae  \n",
       "3  Hymenoptera  NaN         Apoidea         Apidae  \n",
       "4   Orthoptera  NaN  Tettigonioidea  Tettigoniidae  "
      ]
     },
     "execution_count": 2,
     "metadata": {},
     "output_type": "execute_result"
    }
   ],
   "source": [
    "data = pd.read_csv('spipoll_export_202012301551.txt', delimiter=\"\\t\")\n",
    "data.head()"
   ]
  },
  {
   "cell_type": "code",
   "execution_count": 3,
   "metadata": {},
   "outputs": [],
   "source": [
    "data['B&W_taxonomy'] = data['B&W_taxonomy'].replace(\"Bees\",\"bee\")\n",
    "data['B&W_taxonomy'] = data['B&W_taxonomy'].replace(\"Wasps\",\"wasp\")\n",
    "data['B&W_taxonomy'] = data['B&W_taxonomy'].replace(\"Other insects\",\"insect\")\n",
    "data['B&W_taxonomy'] = data['B&W_taxonomy'].replace(\"butterflies\",\"butterfly\")"
   ]
  },
  {
   "cell_type": "code",
   "execution_count": 4,
   "metadata": {},
   "outputs": [],
   "source": [
    "data_bee = data[data[\"B&W_taxonomy\"]=='bee']\n",
    "data_wasp = data[data[\"B&W_taxonomy\"]=='wasp']"
   ]
  },
  {
   "cell_type": "markdown",
   "metadata": {},
   "source": [
    "# Define the test\n",
    "\n",
    "(be carefull with the number of images to test it can be quite expensive in terms of memory)"
   ]
  },
  {
   "cell_type": "code",
   "execution_count": 5,
   "metadata": {},
   "outputs": [],
   "source": [
    "number_images = 500\n",
    "resolution_to_test = [64, 128, 256]"
   ]
  },
  {
   "cell_type": "markdown",
   "metadata": {},
   "source": [
    "## Download the images & preparation"
   ]
  },
  {
   "cell_type": "code",
   "execution_count": 6,
   "metadata": {},
   "outputs": [],
   "source": [
    "from skimage import io\n",
    "\n",
    "images = []\n",
    "label = []\n",
    "#Label : 0 for bees & 1 for wasps\n",
    "\n",
    "for i in range(number_images):\n",
    "    images.append(io.imread(data_bee[\"URL\"].iloc[i]))\n",
    "    images.append(io.imread(data_wasp[\"URL\"].iloc[i]))\n",
    "    label.append(0)\n",
    "    label.append(1)"
   ]
  },
  {
   "cell_type": "code",
   "execution_count": 7,
   "metadata": {},
   "outputs": [],
   "source": [
    "for i in range(0,len(images)):\n",
    "    shape = np.shape(images[i])\n",
    "    if(len(shape)==2 or shape[2] != 3):\n",
    "        images.pop(i)\n",
    "        label.pop(i)"
   ]
  },
  {
   "cell_type": "markdown",
   "metadata": {},
   "source": [
    "No strange images among the first 1000"
   ]
  },
  {
   "cell_type": "code",
   "execution_count": 8,
   "metadata": {},
   "outputs": [],
   "source": [
    "def perfect_resize(img):\n",
    "    x = np.shape(img)\n",
    "    \n",
    "    diff = np.abs(x[0] - x[1])\n",
    "    a = int(diff/2)\n",
    "    \n",
    "    if(len(x) == 3):\n",
    "        if (x[0] < x[1]):\n",
    "            b = int(x[1]-(diff/2))\n",
    "            res = img[:,a:b,:]\n",
    "        else:\n",
    "            b = int(x[0]-(diff/2))\n",
    "            res = img[a:b,:,:]\n",
    "    else:\n",
    "        if (x[0] < x[1]):\n",
    "            b = int(x[1]-(diff/2))\n",
    "            res = img[:,a:b]\n",
    "        else:\n",
    "            b = int(x[0]-(diff/2))\n",
    "            res = img[a:b,:]\n",
    "        \n",
    "    return res"
   ]
  },
  {
   "cell_type": "code",
   "execution_count": 9,
   "metadata": {},
   "outputs": [
    {
     "name": "stderr",
     "output_type": "stream",
     "text": [
      "C:\\Users\\Thibaut\\anaconda3\\envs\\tensor\\lib\\site-packages\\numpy\\core\\_asarray.py:83: VisibleDeprecationWarning: Creating an ndarray from ragged nested sequences (which is a list-or-tuple of lists-or-tuples-or ndarrays with different lengths or shapes) is deprecated. If you meant to do this, you must specify 'dtype=object' when creating the ndarray\n",
      "  return array(a, dtype, copy=False, order=order)\n"
     ]
    }
   ],
   "source": [
    "images_resized=[]\n",
    "for i in range(0,np.shape(images)[0]):\n",
    "    images_resized.append(perfect_resize(images[i]))"
   ]
  },
  {
   "cell_type": "markdown",
   "metadata": {},
   "source": [
    "## Run the line below to remove the raw images as we don't need them anymore \n",
    "\n",
    "(but you will have to redownload them)"
   ]
  },
  {
   "cell_type": "code",
   "execution_count": 38,
   "metadata": {},
   "outputs": [],
   "source": [
    "#del images"
   ]
  },
  {
   "cell_type": "markdown",
   "metadata": {},
   "source": [
    "Now we check if all images are squared images :"
   ]
  },
  {
   "cell_type": "code",
   "execution_count": 11,
   "metadata": {},
   "outputs": [],
   "source": [
    "for i in range(0,len(images_resized)):\n",
    "    if(np.shape(images_resized[i])[0] != np.shape(images_resized[i])[1]):\n",
    "        print(np.shape(images_resized[0])[0],np.shape(images_resized)[1])\n",
    "        print(\"Erreur, des images ont mal été modifiés :\" , i)"
   ]
  },
  {
   "cell_type": "markdown",
   "metadata": {},
   "source": [
    "## Image reduction to the one that need to be tested"
   ]
  },
  {
   "cell_type": "code",
   "execution_count": 12,
   "metadata": {},
   "outputs": [
    {
     "name": "stdout",
     "output_type": "stream",
     "text": [
      "0\n"
     ]
    }
   ],
   "source": [
    "images_all_resolutions = []\n",
    "for i in range(len(resolution_to_test)):\n",
    "    images_all_resolutions.append([])\n",
    "    \n",
    "for i in range(0,len(images_resized)):\n",
    "    temp = Image.fromarray(images_resized[i])\n",
    "    for j in range(len(resolution_to_test)):\n",
    "        resolution = resolution_to_test[j]\n",
    "        images_all_resolutions[j].append(np.array(temp.resize(size=(resolution, resolution))))\n",
    "    if (i%100==0):\n",
    "        print(i)"
   ]
  },
  {
   "cell_type": "markdown",
   "metadata": {},
   "source": [
    "Now we will flatten the array to insert it into the dataframe :"
   ]
  },
  {
   "cell_type": "code",
   "execution_count": 13,
   "metadata": {},
   "outputs": [],
   "source": [
    "for i in range(0,len(images_resized)):\n",
    "    for j in range(len(resolution_to_test)):\n",
    "        images_all_resolutions[j][i] = images_all_resolutions[j][i].ravel()"
   ]
  },
  {
   "cell_type": "markdown",
   "metadata": {},
   "source": [
    "Now we will convert the array img into a dataframe :"
   ]
  },
  {
   "cell_type": "code",
   "execution_count": 14,
   "metadata": {},
   "outputs": [],
   "source": [
    "column_all_resolutions = []\n",
    "for i in range(len(resolution_to_test)):\n",
    "    column_all_resolutions.append([])\n",
    "\n",
    "for index_resolution, resolution in enumerate(resolution_to_test):\n",
    "    for i in range(0,resolution*resolution):\n",
    "        name = 'pixel_'+str(1+int(i/resolution))+'_'+str(1+(i%resolution))\n",
    "        column_all_resolutions[index_resolution].append(name+'_R')\n",
    "        column_all_resolutions[index_resolution].append(name+'_G')\n",
    "        column_all_resolutions[index_resolution].append(name+'_B')"
   ]
  },
  {
   "cell_type": "code",
   "execution_count": 15,
   "metadata": {},
   "outputs": [],
   "source": [
    "dataframes = {}\n",
    "\n",
    "labels_dataframe = pd.DataFrame(columns=['label'], data=label)\n",
    "\n",
    "for index_resolution, resolution in enumerate(resolution_to_test):\n",
    "    to_be_merged_dataframe = pd.DataFrame(columns = column_all_resolutions[index_resolution], data=images_all_resolutions[index_resolution])    \n",
    "    dataframes[resolution] = to_be_merged_dataframe.merge(labels_dataframe, left_index=True, right_index=True)"
   ]
  },
  {
   "cell_type": "markdown",
   "metadata": {},
   "source": [
    "# Test the model depending on the resolution"
   ]
  },
  {
   "cell_type": "code",
   "execution_count": 16,
   "metadata": {},
   "outputs": [
    {
     "name": "stdout",
     "output_type": "stream",
     "text": [
      "Epoch 1/5\n",
      "13/13 [==============================] - 36s 3s/step - loss: 0.7508 - accuracy: 0.5385\n",
      "Epoch 2/5\n",
      "13/13 [==============================] - 0s 16ms/step - loss: 0.5459 - accuracy: 0.6154\n",
      "Epoch 3/5\n",
      "13/13 [==============================] - 0s 16ms/step - loss: 0.2987 - accuracy: 0.9231\n",
      "Epoch 4/5\n",
      "13/13 [==============================] - 0s 16ms/step - loss: 0.1217 - accuracy: 1.0000\n",
      "Epoch 5/5\n",
      "13/13 [==============================] - 0s 15ms/step - loss: 0.0578 - accuracy: 1.0000\n",
      "Epoch 1/5\n",
      "13/13 [==============================] - 35s 3s/step - loss: 0.9356 - accuracy: 0.3846\n",
      "Epoch 2/5\n",
      "13/13 [==============================] - 0s 21ms/step - loss: 0.2210 - accuracy: 1.0000\n",
      "Epoch 3/5\n",
      "13/13 [==============================] - 0s 21ms/step - loss: 0.0445 - accuracy: 1.0000\n",
      "Epoch 4/5\n",
      "13/13 [==============================] - 0s 21ms/step - loss: 0.0102 - accuracy: 1.0000\n",
      "Epoch 5/5\n",
      "13/13 [==============================] - 0s 21ms/step - loss: 0.0043 - accuracy: 1.0000\n",
      "Epoch 1/5\n",
      "13/13 [==============================] - 37s 3s/step - loss: 0.6758 - accuracy: 0.6154\n",
      "Epoch 2/5\n",
      "13/13 [==============================] - 1s 43ms/step - loss: 0.0899 - accuracy: 1.0000\n",
      "Epoch 3/5\n",
      "13/13 [==============================] - 1s 44ms/step - loss: 0.0167 - accuracy: 1.0000\n",
      "Epoch 4/5\n",
      "13/13 [==============================] - 1s 43ms/step - loss: 0.0072 - accuracy: 1.0000\n",
      "Epoch 5/5\n",
      "13/13 [==============================] - 1s 43ms/step - loss: 0.0038 - accuracy: 1.0000\n"
     ]
    }
   ],
   "source": [
    "scores = []\n",
    "\n",
    "for  resolution in resolution_to_test:\n",
    "    y = dataframes[resolution][\"label\"]\n",
    "    X = dataframes[resolution].drop([\"label\"], axis=1)\n",
    "    \n",
    "    X_train, X_test, y_train, y_test = train_test_split(\n",
    "                                        X, y, test_size=0.33, random_state=42)\n",
    "    \n",
    "    y_train = to_categorical(y_train, num_classes=2)\n",
    "    y_test = to_categorical(y_test, num_classes=2)\n",
    "    X_train = X_train.values\n",
    "    X_test = X_test.values\n",
    "    X_train = X_train.reshape(len(X_train),resolution,resolution,3)\n",
    "    X_test = X_test.reshape(len(X_test),resolution,resolution,3)\n",
    "    X_train = X_train / 255.\n",
    "    X_test = X_test / 255.\n",
    "    \n",
    "    base_model = ResNet152V2(include_top=False, weights='imagenet')\n",
    "    x = base_model.output\n",
    "    x = GlobalAveragePooling2D()(x)\n",
    "    x = Dense(1024, activation='relu')(x)\n",
    "    predictions = Dense(2, activation='softmax')(x)\n",
    "\n",
    "    model = Model(inputs=base_model.input, outputs=predictions)\n",
    "\n",
    "    model.compile(optimizer=Adam(lr=0.0001), loss='categorical_crossentropy', \n",
    "                  metrics = ['accuracy'])\n",
    "\n",
    "    model.fit(X_train, y_train, #validation_split=0.2,\n",
    "              epochs=5,\n",
    "              verbose=1)\n",
    "    \n",
    "    scores.append(model.evaluate(X_test, y_test,verbose=0))"
   ]
  },
  {
   "cell_type": "markdown",
   "metadata": {},
   "source": [
    "# Print the results"
   ]
  },
  {
   "cell_type": "code",
   "execution_count": 37,
   "metadata": {},
   "outputs": [
    {
     "data": {
      "image/png": "[encoded data removed]",
      "text/plain": [
       "<Figure size 1440x360 with 1 Axes>"
      ]
     },
     "metadata": {
      "needs_background": "light"
     },
     "output_type": "display_data"
    }
   ],
   "source": [
    "scores_reso = [scores[i][1] for i in range(len(scores))]\n",
    "\n",
    "x = np.arange(len(resolution_to_test))  \n",
    "width = 0.5  \n",
    "\n",
    "fig, ax = plt.subplots(figsize =(20,5))\n",
    "rects1 = ax.bar(x, scores_reso, width=width, label='Test')\n",
    "ax.set_ylabel('Accuracy')\n",
    "ax.set_title('Scores by type of classifier')\n",
    "ax.set_xticks(x)\n",
    "ax.set_xticklabels(resolution_to_test)\n",
    "ax.legend()\n",
    "plt.show()"
   ]
  }
 ],
 "metadata": {
  "kernelspec": {
   "display_name": "Python 3",
   "language": "python",
   "name": "python3"
  },
  "language_info": {
   "codemirror_mode": {
    "name": "ipython",
    "version": 3
   },
   "file_extension": ".py",
   "mimetype": "text/x-python",
   "name": "python",
   "nbconvert_exporter": "python",
   "pygments_lexer": "ipython3",
   "version": "3.7.7"
  }
 },
 "nbformat": 4,
 "nbformat_minor": 4
}
